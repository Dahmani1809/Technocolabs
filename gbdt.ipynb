{
 "cells": [
  {
   "cell_type": "code",
   "execution_count": 35,
   "source": [
    "from sklearn.ensemble import GradientBoostingRegressor\n",
    "import numpy as np\n",
    "import pandas as pd\n",
    "from sklearn.model_selection import train_test_split\n",
    "from sklearn.metrics import mean_squared_error\n",
    "from sklearn.datasets import load_boston\n",
    "from sklearn.metrics import mean_absolute_error\n",
    "import matplotlib.pyplot as plt\n",
    "import joblib \n"
   ],
   "outputs": [],
   "metadata": {}
  },
  {
   "cell_type": "code",
   "execution_count": 18,
   "source": [
    "df = pd.read_csv('Twitter_stock_final_dataset_new.csv')\n"
   ],
   "outputs": [],
   "metadata": {}
  },
  {
   "cell_type": "code",
   "execution_count": 19,
   "source": [
    "df"
   ],
   "outputs": [
    {
     "output_type": "execute_result",
     "data": {
      "text/html": [
       "<div>\n",
       "<style scoped>\n",
       "    .dataframe tbody tr th:only-of-type {\n",
       "        vertical-align: middle;\n",
       "    }\n",
       "\n",
       "    .dataframe tbody tr th {\n",
       "        vertical-align: top;\n",
       "    }\n",
       "\n",
       "    .dataframe thead th {\n",
       "        text-align: right;\n",
       "    }\n",
       "</style>\n",
       "<table border=\"1\" class=\"dataframe\">\n",
       "  <thead>\n",
       "    <tr style=\"text-align: right;\">\n",
       "      <th></th>\n",
       "      <th>Year</th>\n",
       "      <th>Month</th>\n",
       "      <th>Day</th>\n",
       "      <th>StockName</th>\n",
       "      <th>Positive</th>\n",
       "      <th>Negative</th>\n",
       "      <th>Neutral</th>\n",
       "      <th>Total Tweets</th>\n",
       "      <th>Close</th>\n",
       "      <th>Volume</th>\n",
       "      <th>Open</th>\n",
       "      <th>High</th>\n",
       "      <th>Low</th>\n",
       "      <th>Day_of_week</th>\n",
       "    </tr>\n",
       "  </thead>\n",
       "  <tbody>\n",
       "    <tr>\n",
       "      <th>0</th>\n",
       "      <td>2020</td>\n",
       "      <td>1</td>\n",
       "      <td>1</td>\n",
       "      <td>apple</td>\n",
       "      <td>10</td>\n",
       "      <td>2</td>\n",
       "      <td>8</td>\n",
       "      <td>20</td>\n",
       "      <td>75.0875</td>\n",
       "      <td>135647440.0</td>\n",
       "      <td>74.0600</td>\n",
       "      <td>75.1500</td>\n",
       "      <td>73.7975</td>\n",
       "      <td>Wednesday</td>\n",
       "    </tr>\n",
       "    <tr>\n",
       "      <th>1</th>\n",
       "      <td>2020</td>\n",
       "      <td>1</td>\n",
       "      <td>1</td>\n",
       "      <td>microsoft</td>\n",
       "      <td>9</td>\n",
       "      <td>0</td>\n",
       "      <td>11</td>\n",
       "      <td>20</td>\n",
       "      <td>160.6200</td>\n",
       "      <td>22634550.0</td>\n",
       "      <td>158.7800</td>\n",
       "      <td>160.7300</td>\n",
       "      <td>158.3300</td>\n",
       "      <td>Wednesday</td>\n",
       "    </tr>\n",
       "    <tr>\n",
       "      <th>2</th>\n",
       "      <td>2020</td>\n",
       "      <td>1</td>\n",
       "      <td>1</td>\n",
       "      <td>tesla</td>\n",
       "      <td>17</td>\n",
       "      <td>3</td>\n",
       "      <td>3</td>\n",
       "      <td>23</td>\n",
       "      <td>86.0520</td>\n",
       "      <td>47791930.0</td>\n",
       "      <td>84.9000</td>\n",
       "      <td>86.1391</td>\n",
       "      <td>84.3420</td>\n",
       "      <td>Wednesday</td>\n",
       "    </tr>\n",
       "    <tr>\n",
       "      <th>3</th>\n",
       "      <td>2020</td>\n",
       "      <td>1</td>\n",
       "      <td>1</td>\n",
       "      <td>nvidia</td>\n",
       "      <td>1</td>\n",
       "      <td>0</td>\n",
       "      <td>0</td>\n",
       "      <td>1</td>\n",
       "      <td>59.9775</td>\n",
       "      <td>23767876.0</td>\n",
       "      <td>59.6875</td>\n",
       "      <td>59.9775</td>\n",
       "      <td>59.1800</td>\n",
       "      <td>Wednesday</td>\n",
       "    </tr>\n",
       "    <tr>\n",
       "      <th>4</th>\n",
       "      <td>2020</td>\n",
       "      <td>1</td>\n",
       "      <td>1</td>\n",
       "      <td>paypal</td>\n",
       "      <td>1</td>\n",
       "      <td>0</td>\n",
       "      <td>1</td>\n",
       "      <td>2</td>\n",
       "      <td>110.7500</td>\n",
       "      <td>7419283.0</td>\n",
       "      <td>109.4700</td>\n",
       "      <td>111.2100</td>\n",
       "      <td>109.2750</td>\n",
       "      <td>Wednesday</td>\n",
       "    </tr>\n",
       "    <tr>\n",
       "      <th>...</th>\n",
       "      <td>...</td>\n",
       "      <td>...</td>\n",
       "      <td>...</td>\n",
       "      <td>...</td>\n",
       "      <td>...</td>\n",
       "      <td>...</td>\n",
       "      <td>...</td>\n",
       "      <td>...</td>\n",
       "      <td>...</td>\n",
       "      <td>...</td>\n",
       "      <td>...</td>\n",
       "      <td>...</td>\n",
       "      <td>...</td>\n",
       "      <td>...</td>\n",
       "    </tr>\n",
       "    <tr>\n",
       "      <th>2978</th>\n",
       "      <td>2021</td>\n",
       "      <td>9</td>\n",
       "      <td>20</td>\n",
       "      <td>tesla</td>\n",
       "      <td>61</td>\n",
       "      <td>21</td>\n",
       "      <td>39</td>\n",
       "      <td>121</td>\n",
       "      <td>730.1700</td>\n",
       "      <td>24757650.0</td>\n",
       "      <td>734.5577</td>\n",
       "      <td>742.0000</td>\n",
       "      <td>718.6249</td>\n",
       "      <td>Monday</td>\n",
       "    </tr>\n",
       "    <tr>\n",
       "      <th>2979</th>\n",
       "      <td>2021</td>\n",
       "      <td>9</td>\n",
       "      <td>20</td>\n",
       "      <td>nvidia</td>\n",
       "      <td>3</td>\n",
       "      <td>4</td>\n",
       "      <td>3</td>\n",
       "      <td>10</td>\n",
       "      <td>211.1300</td>\n",
       "      <td>34944050.0</td>\n",
       "      <td>211.4600</td>\n",
       "      <td>214.3300</td>\n",
       "      <td>206.6200</td>\n",
       "      <td>Monday</td>\n",
       "    </tr>\n",
       "    <tr>\n",
       "      <th>2980</th>\n",
       "      <td>2021</td>\n",
       "      <td>9</td>\n",
       "      <td>20</td>\n",
       "      <td>paypal</td>\n",
       "      <td>1</td>\n",
       "      <td>1</td>\n",
       "      <td>2</td>\n",
       "      <td>4</td>\n",
       "      <td>269.9100</td>\n",
       "      <td>7728307.0</td>\n",
       "      <td>271.5500</td>\n",
       "      <td>273.0000</td>\n",
       "      <td>265.6800</td>\n",
       "      <td>Monday</td>\n",
       "    </tr>\n",
       "    <tr>\n",
       "      <th>2981</th>\n",
       "      <td>2021</td>\n",
       "      <td>9</td>\n",
       "      <td>21</td>\n",
       "      <td>nvidia</td>\n",
       "      <td>4</td>\n",
       "      <td>4</td>\n",
       "      <td>1</td>\n",
       "      <td>9</td>\n",
       "      <td>212.4600</td>\n",
       "      <td>20468810.0</td>\n",
       "      <td>214.1650</td>\n",
       "      <td>214.2500</td>\n",
       "      <td>209.5000</td>\n",
       "      <td>Tuesday</td>\n",
       "    </tr>\n",
       "    <tr>\n",
       "      <th>2982</th>\n",
       "      <td>2021</td>\n",
       "      <td>9</td>\n",
       "      <td>21</td>\n",
       "      <td>paypal</td>\n",
       "      <td>3</td>\n",
       "      <td>3</td>\n",
       "      <td>2</td>\n",
       "      <td>8</td>\n",
       "      <td>269.4900</td>\n",
       "      <td>4326076.0</td>\n",
       "      <td>271.7500</td>\n",
       "      <td>272.2986</td>\n",
       "      <td>267.8000</td>\n",
       "      <td>Tuesday</td>\n",
       "    </tr>\n",
       "  </tbody>\n",
       "</table>\n",
       "<p>2983 rows × 14 columns</p>\n",
       "</div>"
      ],
      "text/plain": [
       "      Year  Month  Day  StockName  Positive  Negative  Neutral  Total Tweets  \\\n",
       "0     2020      1    1      apple        10         2        8            20   \n",
       "1     2020      1    1  microsoft         9         0       11            20   \n",
       "2     2020      1    1      tesla        17         3        3            23   \n",
       "3     2020      1    1     nvidia         1         0        0             1   \n",
       "4     2020      1    1     paypal         1         0        1             2   \n",
       "...    ...    ...  ...        ...       ...       ...      ...           ...   \n",
       "2978  2021      9   20      tesla        61        21       39           121   \n",
       "2979  2021      9   20     nvidia         3         4        3            10   \n",
       "2980  2021      9   20     paypal         1         1        2             4   \n",
       "2981  2021      9   21     nvidia         4         4        1             9   \n",
       "2982  2021      9   21     paypal         3         3        2             8   \n",
       "\n",
       "         Close       Volume      Open      High       Low Day_of_week  \n",
       "0      75.0875  135647440.0   74.0600   75.1500   73.7975   Wednesday  \n",
       "1     160.6200   22634550.0  158.7800  160.7300  158.3300   Wednesday  \n",
       "2      86.0520   47791930.0   84.9000   86.1391   84.3420   Wednesday  \n",
       "3      59.9775   23767876.0   59.6875   59.9775   59.1800   Wednesday  \n",
       "4     110.7500    7419283.0  109.4700  111.2100  109.2750   Wednesday  \n",
       "...        ...          ...       ...       ...       ...         ...  \n",
       "2978  730.1700   24757650.0  734.5577  742.0000  718.6249      Monday  \n",
       "2979  211.1300   34944050.0  211.4600  214.3300  206.6200      Monday  \n",
       "2980  269.9100    7728307.0  271.5500  273.0000  265.6800      Monday  \n",
       "2981  212.4600   20468810.0  214.1650  214.2500  209.5000     Tuesday  \n",
       "2982  269.4900    4326076.0  271.7500  272.2986  267.8000     Tuesday  \n",
       "\n",
       "[2983 rows x 14 columns]"
      ]
     },
     "metadata": {},
     "execution_count": 19
    }
   ],
   "metadata": {}
  },
  {
   "cell_type": "code",
   "execution_count": 20,
   "source": [
    "df2 =df\n",
    "Date = ['Year', 'Month','Day']\n",
    "df2.sort_values(by = Date, inplace = True, ascending = True)"
   ],
   "outputs": [],
   "metadata": {}
  },
  {
   "cell_type": "code",
   "execution_count": 21,
   "source": [
    "cols = ['Close', 'High', 'Low', 'Volume','Open','Day_of_week']\n",
    "X_reg2 = df2.drop(cols, axis = 1).values\n",
    "y_reg2 = df2.Close.values"
   ],
   "outputs": [],
   "metadata": {}
  },
  {
   "cell_type": "code",
   "execution_count": 22,
   "source": [
    "df_X = pd.DataFrame(X_reg2)#, columns=['Column1', 'Column2'] \n",
    "df_X.head()"
   ],
   "outputs": [
    {
     "output_type": "execute_result",
     "data": {
      "text/html": [
       "<div>\n",
       "<style scoped>\n",
       "    .dataframe tbody tr th:only-of-type {\n",
       "        vertical-align: middle;\n",
       "    }\n",
       "\n",
       "    .dataframe tbody tr th {\n",
       "        vertical-align: top;\n",
       "    }\n",
       "\n",
       "    .dataframe thead th {\n",
       "        text-align: right;\n",
       "    }\n",
       "</style>\n",
       "<table border=\"1\" class=\"dataframe\">\n",
       "  <thead>\n",
       "    <tr style=\"text-align: right;\">\n",
       "      <th></th>\n",
       "      <th>0</th>\n",
       "      <th>1</th>\n",
       "      <th>2</th>\n",
       "      <th>3</th>\n",
       "      <th>4</th>\n",
       "      <th>5</th>\n",
       "      <th>6</th>\n",
       "      <th>7</th>\n",
       "    </tr>\n",
       "  </thead>\n",
       "  <tbody>\n",
       "    <tr>\n",
       "      <th>0</th>\n",
       "      <td>2020</td>\n",
       "      <td>1</td>\n",
       "      <td>1</td>\n",
       "      <td>apple</td>\n",
       "      <td>10</td>\n",
       "      <td>2</td>\n",
       "      <td>8</td>\n",
       "      <td>20</td>\n",
       "    </tr>\n",
       "    <tr>\n",
       "      <th>1</th>\n",
       "      <td>2020</td>\n",
       "      <td>1</td>\n",
       "      <td>1</td>\n",
       "      <td>microsoft</td>\n",
       "      <td>9</td>\n",
       "      <td>0</td>\n",
       "      <td>11</td>\n",
       "      <td>20</td>\n",
       "    </tr>\n",
       "    <tr>\n",
       "      <th>2</th>\n",
       "      <td>2020</td>\n",
       "      <td>1</td>\n",
       "      <td>1</td>\n",
       "      <td>tesla</td>\n",
       "      <td>17</td>\n",
       "      <td>3</td>\n",
       "      <td>3</td>\n",
       "      <td>23</td>\n",
       "    </tr>\n",
       "    <tr>\n",
       "      <th>3</th>\n",
       "      <td>2020</td>\n",
       "      <td>1</td>\n",
       "      <td>1</td>\n",
       "      <td>nvidia</td>\n",
       "      <td>1</td>\n",
       "      <td>0</td>\n",
       "      <td>0</td>\n",
       "      <td>1</td>\n",
       "    </tr>\n",
       "    <tr>\n",
       "      <th>4</th>\n",
       "      <td>2020</td>\n",
       "      <td>1</td>\n",
       "      <td>1</td>\n",
       "      <td>paypal</td>\n",
       "      <td>1</td>\n",
       "      <td>0</td>\n",
       "      <td>1</td>\n",
       "      <td>2</td>\n",
       "    </tr>\n",
       "  </tbody>\n",
       "</table>\n",
       "</div>"
      ],
      "text/plain": [
       "      0  1  2          3   4  5   6   7\n",
       "0  2020  1  1      apple  10  2   8  20\n",
       "1  2020  1  1  microsoft   9  0  11  20\n",
       "2  2020  1  1      tesla  17  3   3  23\n",
       "3  2020  1  1     nvidia   1  0   0   1\n",
       "4  2020  1  1     paypal   1  0   1   2"
      ]
     },
     "metadata": {},
     "execution_count": 22
    }
   ],
   "metadata": {}
  },
  {
   "cell_type": "code",
   "execution_count": 23,
   "source": [
    "#LABEL ENCODE\n",
    "# Encoding the Independent or ohject variable Day_of_week\n",
    "from sklearn.preprocessing import LabelEncoder, OneHotEncoder\n",
    "\n",
    "regEnc = LabelEncoder()\n",
    "\n",
    "#X_reg2[:, -1] = regEnc.fit_transform(X_reg2[:, -1]) #Day_of_week\n",
    "\n",
    "X_reg2[:, 3] = regEnc.fit_transform(X_reg2[:, 3]) #stockName"
   ],
   "outputs": [],
   "metadata": {}
  },
  {
   "cell_type": "code",
   "execution_count": 24,
   "source": [
    "Xtrain_set, Xtest_set= np.split(X_reg2, [int(0.8 * len(X_reg2))])\n",
    "\n",
    "ytrain_set, ytest_set= np.split(y_reg2, [int(0.8 * len(y_reg2))])"
   ],
   "outputs": [],
   "metadata": {}
  },
  {
   "cell_type": "code",
   "execution_count": 25,
   "source": [
    "print('X shapes for train and test are: ',Xtrain_set.shape, Xtest_set.shape, 'respectively')\n",
    "print('X shapes for train and test are: ',ytrain_set.shape, ytest_set.shape, 'respectively')"
   ],
   "outputs": [
    {
     "output_type": "stream",
     "name": "stdout",
     "text": [
      "X shapes for train and test are:  (2386, 8) (597, 8) respectively\n",
      "X shapes for train and test are:  (2386,) (597,) respectively\n"
     ]
    }
   ],
   "metadata": {}
  },
  {
   "cell_type": "markdown",
   "source": [],
   "metadata": {}
  },
  {
   "cell_type": "code",
   "execution_count": 26,
   "source": [
    "\n",
    "reg = GradientBoostingRegressor(random_state=0)\n",
    "reg.fit(Xtrain_set, ytrain_set)\n",
    "reg.predict(Xtest_set[1:2])\n",
    "reg.score(Xtest_set, ytest_set)"
   ],
   "outputs": [
    {
     "output_type": "execute_result",
     "data": {
      "text/plain": [
       "0.939102299137446"
      ]
     },
     "metadata": {},
     "execution_count": 26
    }
   ],
   "metadata": {}
  },
  {
   "cell_type": "code",
   "execution_count": 27,
   "source": [
    "y_Lpred = reg.predict(Xtest_set)"
   ],
   "outputs": [],
   "metadata": {}
  },
  {
   "cell_type": "code",
   "execution_count": 28,
   "source": [
    "import math\n",
    "from sklearn import metrics\n",
    "mse =np.square(np.subtract(ytest_set, y_Lpred)).mean()\n",
    "rmse = math.sqrt(mse)\n",
    "print('rmse: ', rmse)"
   ],
   "outputs": [
    {
     "output_type": "stream",
     "name": "stdout",
     "text": [
      "rmse:  46.95613406920091\n"
     ]
    }
   ],
   "metadata": {}
  },
  {
   "cell_type": "code",
   "execution_count": 29,
   "source": [
    "print('Mean absolute error: ', metrics.mean_absolute_error(ytest_set, y_Lpred))"
   ],
   "outputs": [
    {
     "output_type": "stream",
     "name": "stdout",
     "text": [
      "Mean absolute error:  37.14552939178655\n"
     ]
    }
   ],
   "metadata": {}
  },
  {
   "cell_type": "code",
   "execution_count": 30,
   "source": [
    "print('The r2_score: ', metrics.r2_score(ytest_set, y_Lpred))"
   ],
   "outputs": [
    {
     "output_type": "stream",
     "name": "stdout",
     "text": [
      "The r2_score:  0.939102299137446\n"
     ]
    }
   ],
   "metadata": {}
  },
  {
   "cell_type": "code",
   "execution_count": 31,
   "source": [
    "result = pd.DataFrame({'Actual': ytest_set.flatten(), 'Predicted': y_Lpred.flatten()})\n",
    "result"
   ],
   "outputs": [
    {
     "output_type": "execute_result",
     "data": {
      "text/html": [
       "<div>\n",
       "<style scoped>\n",
       "    .dataframe tbody tr th:only-of-type {\n",
       "        vertical-align: middle;\n",
       "    }\n",
       "\n",
       "    .dataframe tbody tr th {\n",
       "        vertical-align: top;\n",
       "    }\n",
       "\n",
       "    .dataframe thead th {\n",
       "        text-align: right;\n",
       "    }\n",
       "</style>\n",
       "<table border=\"1\" class=\"dataframe\">\n",
       "  <thead>\n",
       "    <tr style=\"text-align: right;\">\n",
       "      <th></th>\n",
       "      <th>Actual</th>\n",
       "      <th>Predicted</th>\n",
       "    </tr>\n",
       "  </thead>\n",
       "  <tbody>\n",
       "    <tr>\n",
       "      <th>0</th>\n",
       "      <td>126.543333</td>\n",
       "      <td>132.252501</td>\n",
       "    </tr>\n",
       "    <tr>\n",
       "      <th>1</th>\n",
       "      <td>248.910000</td>\n",
       "      <td>239.234661</td>\n",
       "    </tr>\n",
       "    <tr>\n",
       "      <th>2</th>\n",
       "      <td>597.920000</td>\n",
       "      <td>661.482240</td>\n",
       "    </tr>\n",
       "    <tr>\n",
       "      <th>3</th>\n",
       "      <td>154.052500</td>\n",
       "      <td>146.578308</td>\n",
       "    </tr>\n",
       "    <tr>\n",
       "      <th>4</th>\n",
       "      <td>254.355000</td>\n",
       "      <td>258.657408</td>\n",
       "    </tr>\n",
       "    <tr>\n",
       "      <th>...</th>\n",
       "      <td>...</td>\n",
       "      <td>...</td>\n",
       "    </tr>\n",
       "    <tr>\n",
       "      <th>592</th>\n",
       "      <td>730.170000</td>\n",
       "      <td>669.157763</td>\n",
       "    </tr>\n",
       "    <tr>\n",
       "      <th>593</th>\n",
       "      <td>211.130000</td>\n",
       "      <td>157.116780</td>\n",
       "    </tr>\n",
       "    <tr>\n",
       "      <th>594</th>\n",
       "      <td>269.910000</td>\n",
       "      <td>269.452966</td>\n",
       "    </tr>\n",
       "    <tr>\n",
       "      <th>595</th>\n",
       "      <td>212.460000</td>\n",
       "      <td>157.116780</td>\n",
       "    </tr>\n",
       "    <tr>\n",
       "      <th>596</th>\n",
       "      <td>269.490000</td>\n",
       "      <td>269.452966</td>\n",
       "    </tr>\n",
       "  </tbody>\n",
       "</table>\n",
       "<p>597 rows × 2 columns</p>\n",
       "</div>"
      ],
      "text/plain": [
       "         Actual   Predicted\n",
       "0    126.543333  132.252501\n",
       "1    248.910000  239.234661\n",
       "2    597.920000  661.482240\n",
       "3    154.052500  146.578308\n",
       "4    254.355000  258.657408\n",
       "..          ...         ...\n",
       "592  730.170000  669.157763\n",
       "593  211.130000  157.116780\n",
       "594  269.910000  269.452966\n",
       "595  212.460000  157.116780\n",
       "596  269.490000  269.452966\n",
       "\n",
       "[597 rows x 2 columns]"
      ]
     },
     "metadata": {},
     "execution_count": 31
    }
   ],
   "metadata": {}
  },
  {
   "cell_type": "code",
   "execution_count": 32,
   "source": [
    "result2 = result.head(10)\n",
    "result2.plot(kind='bar',figsize=(16,10))\n",
    "plt.grid(which='major', linestyle='-', linewidth='0.5', color='green')\n",
    "plt.grid(which='minor', linestyle=':', linewidth='0.5', color='black')\n",
    "plt.show()"
   ],
   "outputs": [
    {
     "output_type": "display_data",
     "data": {
      "image/png": "[encoded data removed]",
      "text/plain": [
       "<Figure size 1152x720 with 1 Axes>"
      ]
     },
     "metadata": {
      "needs_background": "light"
     }
    }
   ],
   "metadata": {}
  },
  {
   "cell_type": "code",
   "execution_count": null,
   "source": [],
   "outputs": [],
   "metadata": {}
  },
  {
   "cell_type": "code",
   "execution_count": 33,
   "source": [
    "plt.plot(ytest_set.flatten(), color = 'red', label ='actual stock price' )\n",
    "plt.plot(y_Lpred.flatten(), color = 'blue', label ='predicted stock price')\n",
    "plt.title('Stock Price Prediction')\n",
    "plt.xlabel('Time')\n",
    "plt.ylabel('Stock Price' )\n",
    "plt.legend()"
   ],
   "outputs": [
    {
     "output_type": "execute_result",
     "data": {
      "text/plain": [
       "<matplotlib.legend.Legend at 0x7fa4d84a22e0>"
      ]
     },
     "metadata": {},
     "execution_count": 33
    },
    {
     "output_type": "display_data",
     "data": {
      "image/png": "[encoded data removed]",
      "text/plain": [
       "<Figure size 432x288 with 1 Axes>"
      ]
     },
     "metadata": {
      "needs_background": "light"
     }
    }
   ],
   "metadata": {}
  },
  {
   "cell_type": "code",
   "execution_count": 42,
   "source": [
    "\n",
    "import pickle\n",
    "with open('model_gbdt.pkl', 'wb') as file:\n",
    "    pickle.dump(reg , file)"
   ],
   "outputs": [],
   "metadata": {}
  },
  {
   "cell_type": "code",
   "execution_count": null,
   "source": [],
   "outputs": [],
   "metadata": {}
  }
 ],
 "metadata": {
  "orig_nbformat": 4,
  "language_info": {
   "name": "python",
   "version": "3.8.8",
   "mimetype": "text/x-python",
   "codemirror_mode": {
    "name": "ipython",
    "version": 3
   },
   "pygments_lexer": "ipython3",
   "nbconvert_exporter": "python",
   "file_extension": ".py"
  },
  "kernelspec": {
   "name": "python3",
   "display_name": "Python 3.8.8 64-bit ('base': conda)"
  },
  "interpreter": {
   "hash": "d1517d6daa919a7c6665135e311042068b375e660c838512ed3b11ae7e68eb8a"
  }
 },
 "nbformat": 4,
 "nbformat_minor": 2
}